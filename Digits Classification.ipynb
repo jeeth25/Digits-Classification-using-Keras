{
  "cells": [
    {
      "cell_type": "markdown",
      "metadata": {
        "id": "M4grPtXHi3ro"
      },
      "source": [
        "# **Digits Classification**\n",
        "\n",
        "This project focuses on classifying the digits using a fully-connected neural network. The tools used are Keras, Python, NumPy, sci-kit learn, and matplotlib."
      ]
    },
    {
      "cell_type": "markdown",
      "metadata": {
        "id": "uUBp7xu5wUoK"
      },
      "source": [
        "Here I am importing all the required libraries. I will be using digits classification dataset available in the sklearn library."
      ]
    },
    {
      "cell_type": "code",
      "execution_count": null,
      "metadata": {
        "id": "meGW7KHbLjZ0"
      },
      "outputs": [],
      "source": [
        "import tensorflow as tf\n",
        "from tensorflow import keras\n",
        "from keras.models import Sequential\n",
        "from keras.layers import Dense\n",
        "from keras.optimizers import Adam\n",
        "from sklearn.model_selection import train_test_split\n",
        "from sklearn.datasets import load_digits\n",
        "import numpy as np\n",
        "import matplotlib.pyplot as plt"
      ]
    },
    {
      "cell_type": "markdown",
      "metadata": {
        "id": "MEgY7Vmyy6mw"
      },
      "source": [
        "**Task 1**\n",
        "\n",
        "Here, the dataset is loaded. After that I will initialize two input variables.\n",
        "X consists of all the data which will be used for training and y consists of target data. Target data includes the result that the model aims to achieve.\n"
      ]
    },
    {
      "cell_type": "code",
      "execution_count": null,
      "metadata": {
        "id": "dE2pjvShzy_Y"
      },
      "outputs": [],
      "source": [
        "digits = load_digits()\n",
        "X = digits.data\n",
        "y = digits.target"
      ]
    },
    {
      "cell_type": "markdown",
      "metadata": {
        "id": "b_xpQ_Yml4YM"
      },
      "source": [
        "After that, I will be splitting the dataset into training set and test set using the train_test_split function of scikit learn. I will be splitting the dataset on a 70:30 ratio. The training set consists of the 70% of the data, while the testing set consists of the 30% of the data."
      ]
    },
    {
      "cell_type": "code",
      "execution_count": null,
      "metadata": {
        "id": "K1HOw4F_aJ0y"
      },
      "outputs": [],
      "source": [
        "X_train, X_test, y_train, y_test = train_test_split(X, y, test_size=0.30)"
      ]
    },
    {
      "cell_type": "markdown",
      "metadata": {
        "id": "F4RMbMmd6obD"
      },
      "source": [
        "Here, I am just checking the shapes of the various training and testing sets. As training sets are used for training the model and testing set are used for evaluating the model's performance."
      ]
    },
    {
      "cell_type": "code",
      "execution_count": null,
      "metadata": {
        "colab": {
          "base_uri": "https://localhost:8080/"
        },
        "id": "NGsLi6e3Kr_r",
        "outputId": "3244d9b2-d984-42a0-fc6f-56cd306154dd"
      },
      "outputs": [
        {
          "name": "stdout",
          "output_type": "stream",
          "text": [
            "(1257, 64)\n",
            "(1257,)\n",
            "(540, 64)\n",
            "(540,)\n"
          ]
        }
      ],
      "source": [
        "print(X_train.shape)\n",
        "print(y_train.shape)\n",
        "print(X_test.shape)\n",
        "print(y_test.shape)"
      ]
    },
    {
      "cell_type": "markdown",
      "metadata": {
        "id": "34fqCESI60X5"
      },
      "source": [
        "Here we will start creating the layers by using Sequential model. It basically arranges the layers in an order.\n",
        "\n",
        "*  In the first layer, which is also known as the input layer, I have taken X_train as an input.  The shape is used to provide 64 inputs to the model. For non linear activation function, I will be using ReLU, as the model that uses it has better performance in training.\n",
        "\n",
        "*  After that I will be reducing the inputs to hidden layer to 32 and then we will have 10 nodes for the output. Hidden layer is where all the processing happens.\n",
        "* I will be using softmax as an non-linear activation function at the output layer as it's used for multi-class classification problems."
      ]
    },
    {
      "cell_type": "code",
      "execution_count": null,
      "metadata": {
        "id": "nB32GO1mnRaa"
      },
      "outputs": [],
      "source": [
        "model = tf.keras.Sequential()\n",
        "model.add(Dense(units=64, input_shape=(X_train.shape[1], ), activation = 'relu', name = 'input_layer'))\n",
        "model.add(Dense(units=32, activation = 'relu', name = '1_hidden_layer'))\n",
        "model.add(Dense(units=10, activation='softmax', name = 'output_layer'))"
      ]
    },
    {
      "cell_type": "markdown",
      "metadata": {
        "id": "-c1SgJ_WB56W"
      },
      "source": [
        "Compile checks the model for any issues, sets the optimizer, loss, and the metrics. For this project, I will be using adam optimizer, sparse categorical crossentropy as the loss, since it's a multi class classification problem. And for the metrics I will be using accuracy. This basically checks accuracy of the model during each epoch."
      ]
    },
    {
      "cell_type": "code",
      "execution_count": null,
      "metadata": {
        "id": "AzE7UrkjO6U4"
      },
      "outputs": [],
      "source": [
        "model.compile(optimizer='adam', loss='sparse_categorical_crossentropy', metrics=['accuracy'])"
      ]
    },
    {
      "cell_type": "markdown",
      "metadata": {
        "id": "1FjqEkFvFUzp"
      },
      "source": [
        "This is the summary of the entire model. It consists of outputs of all the layers, along with the name and parameters."
      ]
    },
    {
      "cell_type": "code",
      "execution_count": null,
      "metadata": {
        "colab": {
          "base_uri": "https://localhost:8080/"
        },
        "id": "yp9Z3XZXIBv_",
        "outputId": "6f920aac-1019-4138-92dc-29c017ad81ae"
      },
      "outputs": [
        {
          "name": "stdout",
          "output_type": "stream",
          "text": [
            "Model: \"sequential\"\n",
            "_________________________________________________________________\n",
            " Layer (type)                Output Shape              Param #   \n",
            "=================================================================\n",
            " input_layer (Dense)         (None, 64)                4160      \n",
            "                                                                 \n",
            " 1_hidden_layer (Dense)      (None, 32)                2080      \n",
            "                                                                 \n",
            " output_layer (Dense)        (None, 10)                330       \n",
            "                                                                 \n",
            "=================================================================\n",
            "Total params: 6,570\n",
            "Trainable params: 6,570\n",
            "Non-trainable params: 0\n",
            "_________________________________________________________________\n"
          ]
        }
      ],
      "source": [
        "model.summary()"
      ]
    },
    {
      "cell_type": "markdown",
      "metadata": {
        "id": "xoRxzgAEFj1X"
      },
      "source": [
        "Fit fits the model to the data. Through this, I can see how well the model fits the data."
      ]
    },
    {
      "cell_type": "code",
      "execution_count": null,
      "metadata": {
        "colab": {
          "base_uri": "https://localhost:8080/"
        },
        "id": "jr2qAWZyV5QT",
        "outputId": "a1597288-efa4-4a65-f05c-e60c152d0aff"
      },
      "outputs": [
        {
          "name": "stdout",
          "output_type": "stream",
          "text": [
            "Epoch 1/100\n",
            "40/40 - 1s - loss: 2.5976 - accuracy: 0.3421 - 996ms/epoch - 25ms/step\n",
            "Epoch 2/100\n",
            "40/40 - 0s - loss: 0.7946 - accuracy: 0.7629 - 67ms/epoch - 2ms/step\n",
            "Epoch 3/100\n",
            "40/40 - 0s - loss: 0.4045 - accuracy: 0.8831 - 68ms/epoch - 2ms/step\n",
            "Epoch 4/100\n",
            "40/40 - 0s - loss: 0.2593 - accuracy: 0.9300 - 65ms/epoch - 2ms/step\n",
            "Epoch 5/100\n",
            "40/40 - 0s - loss: 0.1887 - accuracy: 0.9499 - 75ms/epoch - 2ms/step\n",
            "Epoch 6/100\n",
            "40/40 - 0s - loss: 0.1510 - accuracy: 0.9610 - 66ms/epoch - 2ms/step\n",
            "Epoch 7/100\n",
            "40/40 - 0s - loss: 0.1184 - accuracy: 0.9674 - 69ms/epoch - 2ms/step\n",
            "Epoch 8/100\n",
            "40/40 - 0s - loss: 0.0923 - accuracy: 0.9769 - 69ms/epoch - 2ms/step\n",
            "Epoch 9/100\n",
            "40/40 - 0s - loss: 0.0773 - accuracy: 0.9809 - 78ms/epoch - 2ms/step\n",
            "Epoch 10/100\n",
            "40/40 - 0s - loss: 0.0629 - accuracy: 0.9865 - 65ms/epoch - 2ms/step\n",
            "Epoch 11/100\n",
            "40/40 - 0s - loss: 0.0518 - accuracy: 0.9873 - 64ms/epoch - 2ms/step\n",
            "Epoch 12/100\n",
            "40/40 - 0s - loss: 0.0458 - accuracy: 0.9920 - 79ms/epoch - 2ms/step\n",
            "Epoch 13/100\n",
            "40/40 - 0s - loss: 0.0369 - accuracy: 0.9944 - 77ms/epoch - 2ms/step\n",
            "Epoch 14/100\n",
            "40/40 - 0s - loss: 0.0306 - accuracy: 0.9960 - 69ms/epoch - 2ms/step\n",
            "Epoch 15/100\n",
            "40/40 - 0s - loss: 0.0273 - accuracy: 0.9976 - 64ms/epoch - 2ms/step\n",
            "Epoch 16/100\n",
            "40/40 - 0s - loss: 0.0220 - accuracy: 0.9976 - 65ms/epoch - 2ms/step\n",
            "Epoch 17/100\n",
            "40/40 - 0s - loss: 0.0185 - accuracy: 1.0000 - 76ms/epoch - 2ms/step\n",
            "Epoch 18/100\n",
            "40/40 - 0s - loss: 0.0163 - accuracy: 1.0000 - 62ms/epoch - 2ms/step\n",
            "Epoch 19/100\n",
            "40/40 - 0s - loss: 0.0143 - accuracy: 1.0000 - 77ms/epoch - 2ms/step\n",
            "Epoch 20/100\n",
            "40/40 - 0s - loss: 0.0134 - accuracy: 1.0000 - 66ms/epoch - 2ms/step\n",
            "Epoch 21/100\n",
            "40/40 - 0s - loss: 0.0116 - accuracy: 1.0000 - 75ms/epoch - 2ms/step\n",
            "Epoch 22/100\n",
            "40/40 - 0s - loss: 0.0106 - accuracy: 1.0000 - 72ms/epoch - 2ms/step\n",
            "Epoch 23/100\n",
            "40/40 - 0s - loss: 0.0096 - accuracy: 1.0000 - 65ms/epoch - 2ms/step\n",
            "Epoch 24/100\n",
            "40/40 - 0s - loss: 0.0082 - accuracy: 1.0000 - 68ms/epoch - 2ms/step\n",
            "Epoch 25/100\n",
            "40/40 - 0s - loss: 0.0079 - accuracy: 1.0000 - 65ms/epoch - 2ms/step\n",
            "Epoch 26/100\n",
            "40/40 - 0s - loss: 0.0070 - accuracy: 1.0000 - 63ms/epoch - 2ms/step\n",
            "Epoch 27/100\n",
            "40/40 - 0s - loss: 0.0063 - accuracy: 1.0000 - 62ms/epoch - 2ms/step\n",
            "Epoch 28/100\n",
            "40/40 - 0s - loss: 0.0058 - accuracy: 1.0000 - 63ms/epoch - 2ms/step\n",
            "Epoch 29/100\n",
            "40/40 - 0s - loss: 0.0053 - accuracy: 1.0000 - 63ms/epoch - 2ms/step\n",
            "Epoch 30/100\n",
            "40/40 - 0s - loss: 0.0049 - accuracy: 1.0000 - 66ms/epoch - 2ms/step\n",
            "Epoch 31/100\n",
            "40/40 - 0s - loss: 0.0044 - accuracy: 1.0000 - 63ms/epoch - 2ms/step\n",
            "Epoch 32/100\n",
            "40/40 - 0s - loss: 0.0041 - accuracy: 1.0000 - 62ms/epoch - 2ms/step\n",
            "Epoch 33/100\n",
            "40/40 - 0s - loss: 0.0039 - accuracy: 1.0000 - 103ms/epoch - 3ms/step\n",
            "Epoch 34/100\n",
            "40/40 - 0s - loss: 0.0037 - accuracy: 1.0000 - 99ms/epoch - 2ms/step\n",
            "Epoch 35/100\n",
            "40/40 - 0s - loss: 0.0034 - accuracy: 1.0000 - 101ms/epoch - 3ms/step\n",
            "Epoch 36/100\n",
            "40/40 - 0s - loss: 0.0032 - accuracy: 1.0000 - 97ms/epoch - 2ms/step\n",
            "Epoch 37/100\n",
            "40/40 - 0s - loss: 0.0030 - accuracy: 1.0000 - 97ms/epoch - 2ms/step\n",
            "Epoch 38/100\n",
            "40/40 - 0s - loss: 0.0027 - accuracy: 1.0000 - 93ms/epoch - 2ms/step\n",
            "Epoch 39/100\n",
            "40/40 - 0s - loss: 0.0026 - accuracy: 1.0000 - 103ms/epoch - 3ms/step\n",
            "Epoch 40/100\n",
            "40/40 - 0s - loss: 0.0024 - accuracy: 1.0000 - 95ms/epoch - 2ms/step\n",
            "Epoch 41/100\n",
            "40/40 - 0s - loss: 0.0022 - accuracy: 1.0000 - 95ms/epoch - 2ms/step\n",
            "Epoch 42/100\n",
            "40/40 - 0s - loss: 0.0021 - accuracy: 1.0000 - 96ms/epoch - 2ms/step\n",
            "Epoch 43/100\n",
            "40/40 - 0s - loss: 0.0020 - accuracy: 1.0000 - 105ms/epoch - 3ms/step\n",
            "Epoch 44/100\n",
            "40/40 - 0s - loss: 0.0019 - accuracy: 1.0000 - 120ms/epoch - 3ms/step\n",
            "Epoch 45/100\n",
            "40/40 - 0s - loss: 0.0018 - accuracy: 1.0000 - 93ms/epoch - 2ms/step\n",
            "Epoch 46/100\n",
            "40/40 - 0s - loss: 0.0016 - accuracy: 1.0000 - 95ms/epoch - 2ms/step\n",
            "Epoch 47/100\n",
            "40/40 - 0s - loss: 0.0016 - accuracy: 1.0000 - 96ms/epoch - 2ms/step\n",
            "Epoch 48/100\n",
            "40/40 - 0s - loss: 0.0016 - accuracy: 1.0000 - 99ms/epoch - 2ms/step\n",
            "Epoch 49/100\n",
            "40/40 - 0s - loss: 0.0014 - accuracy: 1.0000 - 94ms/epoch - 2ms/step\n",
            "Epoch 50/100\n",
            "40/40 - 0s - loss: 0.0013 - accuracy: 1.0000 - 94ms/epoch - 2ms/step\n",
            "Epoch 51/100\n",
            "40/40 - 0s - loss: 0.0013 - accuracy: 1.0000 - 97ms/epoch - 2ms/step\n",
            "Epoch 52/100\n",
            "40/40 - 0s - loss: 0.0012 - accuracy: 1.0000 - 101ms/epoch - 3ms/step\n",
            "Epoch 53/100\n",
            "40/40 - 0s - loss: 0.0012 - accuracy: 1.0000 - 93ms/epoch - 2ms/step\n",
            "Epoch 54/100\n",
            "40/40 - 0s - loss: 0.0011 - accuracy: 1.0000 - 102ms/epoch - 3ms/step\n",
            "Epoch 55/100\n",
            "40/40 - 0s - loss: 0.0011 - accuracy: 1.0000 - 95ms/epoch - 2ms/step\n",
            "Epoch 56/100\n",
            "40/40 - 0s - loss: 0.0010 - accuracy: 1.0000 - 93ms/epoch - 2ms/step\n",
            "Epoch 57/100\n",
            "40/40 - 0s - loss: 0.0010 - accuracy: 1.0000 - 96ms/epoch - 2ms/step\n",
            "Epoch 58/100\n",
            "40/40 - 0s - loss: 9.4137e-04 - accuracy: 1.0000 - 94ms/epoch - 2ms/step\n",
            "Epoch 59/100\n",
            "40/40 - 0s - loss: 9.0099e-04 - accuracy: 1.0000 - 92ms/epoch - 2ms/step\n",
            "Epoch 60/100\n",
            "40/40 - 0s - loss: 8.7635e-04 - accuracy: 1.0000 - 106ms/epoch - 3ms/step\n",
            "Epoch 61/100\n",
            "40/40 - 0s - loss: 8.3079e-04 - accuracy: 1.0000 - 96ms/epoch - 2ms/step\n",
            "Epoch 62/100\n",
            "40/40 - 0s - loss: 8.0620e-04 - accuracy: 1.0000 - 85ms/epoch - 2ms/step\n",
            "Epoch 63/100\n",
            "40/40 - 0s - loss: 7.7191e-04 - accuracy: 1.0000 - 88ms/epoch - 2ms/step\n",
            "Epoch 64/100\n",
            "40/40 - 0s - loss: 7.4400e-04 - accuracy: 1.0000 - 113ms/epoch - 3ms/step\n",
            "Epoch 65/100\n",
            "40/40 - 0s - loss: 7.1522e-04 - accuracy: 1.0000 - 95ms/epoch - 2ms/step\n",
            "Epoch 66/100\n",
            "40/40 - 0s - loss: 6.9202e-04 - accuracy: 1.0000 - 92ms/epoch - 2ms/step\n",
            "Epoch 67/100\n",
            "40/40 - 0s - loss: 6.5990e-04 - accuracy: 1.0000 - 94ms/epoch - 2ms/step\n",
            "Epoch 68/100\n",
            "40/40 - 0s - loss: 6.3169e-04 - accuracy: 1.0000 - 93ms/epoch - 2ms/step\n",
            "Epoch 69/100\n",
            "40/40 - 0s - loss: 6.1794e-04 - accuracy: 1.0000 - 101ms/epoch - 3ms/step\n",
            "Epoch 70/100\n",
            "40/40 - 0s - loss: 5.9245e-04 - accuracy: 1.0000 - 93ms/epoch - 2ms/step\n",
            "Epoch 71/100\n",
            "40/40 - 0s - loss: 5.6321e-04 - accuracy: 1.0000 - 99ms/epoch - 2ms/step\n",
            "Epoch 72/100\n",
            "40/40 - 0s - loss: 5.5339e-04 - accuracy: 1.0000 - 87ms/epoch - 2ms/step\n",
            "Epoch 73/100\n",
            "40/40 - 0s - loss: 5.4569e-04 - accuracy: 1.0000 - 103ms/epoch - 3ms/step\n",
            "Epoch 74/100\n",
            "40/40 - 0s - loss: 5.2530e-04 - accuracy: 1.0000 - 104ms/epoch - 3ms/step\n",
            "Epoch 75/100\n",
            "40/40 - 0s - loss: 4.9687e-04 - accuracy: 1.0000 - 107ms/epoch - 3ms/step\n",
            "Epoch 76/100\n",
            "40/40 - 0s - loss: 4.8511e-04 - accuracy: 1.0000 - 82ms/epoch - 2ms/step\n",
            "Epoch 77/100\n",
            "40/40 - 0s - loss: 4.7441e-04 - accuracy: 1.0000 - 67ms/epoch - 2ms/step\n",
            "Epoch 78/100\n",
            "40/40 - 0s - loss: 4.4913e-04 - accuracy: 1.0000 - 65ms/epoch - 2ms/step\n",
            "Epoch 79/100\n",
            "40/40 - 0s - loss: 4.3530e-04 - accuracy: 1.0000 - 66ms/epoch - 2ms/step\n",
            "Epoch 80/100\n",
            "40/40 - 0s - loss: 4.2659e-04 - accuracy: 1.0000 - 65ms/epoch - 2ms/step\n",
            "Epoch 81/100\n",
            "40/40 - 0s - loss: 4.0948e-04 - accuracy: 1.0000 - 62ms/epoch - 2ms/step\n",
            "Epoch 82/100\n",
            "40/40 - 0s - loss: 3.9377e-04 - accuracy: 1.0000 - 68ms/epoch - 2ms/step\n",
            "Epoch 83/100\n",
            "40/40 - 0s - loss: 3.7368e-04 - accuracy: 1.0000 - 63ms/epoch - 2ms/step\n",
            "Epoch 84/100\n",
            "40/40 - 0s - loss: 3.6320e-04 - accuracy: 1.0000 - 63ms/epoch - 2ms/step\n",
            "Epoch 85/100\n",
            "40/40 - 0s - loss: 3.5352e-04 - accuracy: 1.0000 - 73ms/epoch - 2ms/step\n",
            "Epoch 86/100\n",
            "40/40 - 0s - loss: 3.4366e-04 - accuracy: 1.0000 - 65ms/epoch - 2ms/step\n",
            "Epoch 87/100\n",
            "40/40 - 0s - loss: 3.3449e-04 - accuracy: 1.0000 - 72ms/epoch - 2ms/step\n",
            "Epoch 88/100\n",
            "40/40 - 0s - loss: 3.1907e-04 - accuracy: 1.0000 - 66ms/epoch - 2ms/step\n",
            "Epoch 89/100\n",
            "40/40 - 0s - loss: 3.1109e-04 - accuracy: 1.0000 - 66ms/epoch - 2ms/step\n",
            "Epoch 90/100\n",
            "40/40 - 0s - loss: 3.0281e-04 - accuracy: 1.0000 - 77ms/epoch - 2ms/step\n",
            "Epoch 91/100\n",
            "40/40 - 0s - loss: 2.8995e-04 - accuracy: 1.0000 - 66ms/epoch - 2ms/step\n",
            "Epoch 92/100\n",
            "40/40 - 0s - loss: 2.8237e-04 - accuracy: 1.0000 - 65ms/epoch - 2ms/step\n",
            "Epoch 93/100\n",
            "40/40 - 0s - loss: 2.7192e-04 - accuracy: 1.0000 - 71ms/epoch - 2ms/step\n",
            "Epoch 94/100\n",
            "40/40 - 0s - loss: 2.6800e-04 - accuracy: 1.0000 - 64ms/epoch - 2ms/step\n",
            "Epoch 95/100\n",
            "40/40 - 0s - loss: 2.5992e-04 - accuracy: 1.0000 - 62ms/epoch - 2ms/step\n",
            "Epoch 96/100\n",
            "40/40 - 0s - loss: 2.5097e-04 - accuracy: 1.0000 - 64ms/epoch - 2ms/step\n",
            "Epoch 97/100\n",
            "40/40 - 0s - loss: 2.4111e-04 - accuracy: 1.0000 - 65ms/epoch - 2ms/step\n",
            "Epoch 98/100\n",
            "40/40 - 0s - loss: 2.3629e-04 - accuracy: 1.0000 - 68ms/epoch - 2ms/step\n",
            "Epoch 99/100\n",
            "40/40 - 0s - loss: 2.2865e-04 - accuracy: 1.0000 - 61ms/epoch - 2ms/step\n",
            "Epoch 100/100\n",
            "40/40 - 0s - loss: 2.2117e-04 - accuracy: 1.0000 - 61ms/epoch - 2ms/step\n"
          ]
        },
        {
          "data": {
            "text/plain": [
              "<keras.callbacks.History at 0x7f06b970fc40>"
            ]
          },
          "execution_count": 8,
          "metadata": {},
          "output_type": "execute_result"
        }
      ],
      "source": [
        "model.fit(X_train, y_train, epochs=100, batch_size = 32, verbose = 2)"
      ]
    },
    {
      "cell_type": "markdown",
      "metadata": {
        "id": "VSej0Rs8G670"
      },
      "source": [
        "After the training the model, I can check the accuracy and loss.\n",
        "I got 100% accuracy and very low loss on the training set. This means the model fits the data well. Now I will evaluate the model performance on training and test sets."
      ]
    },
    {
      "cell_type": "markdown",
      "metadata": {
        "id": "Qp3AqYGeIfvG"
      },
      "source": [
        "Here we evaluate the model performance on training set"
      ]
    },
    {
      "cell_type": "code",
      "execution_count": null,
      "metadata": {
        "colab": {
          "base_uri": "https://localhost:8080/"
        },
        "id": "PR5_hkDnW_v0",
        "outputId": "1bdedd07-150d-435d-99fc-f95c0b643649"
      },
      "outputs": [
        {
          "name": "stdout",
          "output_type": "stream",
          "text": [
            "40/40 [==============================] - 0s 2ms/step - loss: 2.1047e-04 - accuracy: 1.0000\n"
          ]
        }
      ],
      "source": [
        "train_loss, train_acc = model.evaluate(X_train, y_train)"
      ]
    },
    {
      "cell_type": "code",
      "execution_count": null,
      "metadata": {
        "colab": {
          "base_uri": "https://localhost:8080/"
        },
        "id": "yqSTkNiAFQqE",
        "outputId": "87554452-e4ee-4321-934a-1b1518914122"
      },
      "outputs": [
        {
          "name": "stdout",
          "output_type": "stream",
          "text": [
            "Accuracy: 100.00\n"
          ]
        }
      ],
      "source": [
        "print('Accuracy: %.2f' % (train_acc*100))"
      ]
    },
    {
      "cell_type": "markdown",
      "metadata": {
        "id": "C8uB3ZMKIzjU"
      },
      "source": [
        "Here I will evaluate the model performance on test set. This one is crucial as it will determine whether the model has trained well on the training set. Because, if the accuracy is high on the training set, and low on the test set. It means the model is overfitting the data."
      ]
    },
    {
      "cell_type": "code",
      "execution_count": null,
      "metadata": {
        "colab": {
          "base_uri": "https://localhost:8080/"
        },
        "id": "RmimoXvhXKO4",
        "outputId": "acc74a3f-c77e-48b9-9745-59e595a714ad"
      },
      "outputs": [
        {
          "name": "stdout",
          "output_type": "stream",
          "text": [
            "17/17 [==============================] - 0s 2ms/step - loss: 0.0668 - accuracy: 0.9796\n"
          ]
        }
      ],
      "source": [
        "test_loss, test_acc = model.evaluate(X_test, y_test)"
      ]
    },
    {
      "cell_type": "markdown",
      "metadata": {
        "id": "AGRS4JlqJLfF"
      },
      "source": [
        "The accuracy is 98.89% which means the model is working as intended"
      ]
    },
    {
      "cell_type": "code",
      "execution_count": null,
      "metadata": {
        "colab": {
          "base_uri": "https://localhost:8080/"
        },
        "id": "8filKV9nFi98",
        "outputId": "f30bb473-3855-4958-a88a-d0a7ecc56cb3"
      },
      "outputs": [
        {
          "name": "stdout",
          "output_type": "stream",
          "text": [
            "Accuracy: 97.96\n"
          ]
        }
      ],
      "source": [
        "print('Accuracy: %.2f' % (test_acc*100))"
      ]
    },
    {
      "cell_type": "markdown",
      "metadata": {
        "id": "eaED51TuKRo6"
      },
      "source": [
        "Now, I will be calculating generalization gap to check whether the model will perform well on the unseen data or not. If the generalization gap is low, then the model will work well as intended on the new data."
      ]
    },
    {
      "cell_type": "code",
      "execution_count": null,
      "metadata": {
        "colab": {
          "base_uri": "https://localhost:8080/"
        },
        "id": "UXA4MaD0XSWr",
        "outputId": "ade21c13-6271-4c60-fb3d-fc50db65fc53"
      },
      "outputs": [
        {
          "name": "stdout",
          "output_type": "stream",
          "text": [
            "Generalization gap: -0.06654376882943325\n"
          ]
        }
      ],
      "source": [
        "generalization_gap = train_loss - test_loss\n",
        "print(\"Generalization gap:\", generalization_gap)"
      ]
    },
    {
      "cell_type": "markdown",
      "metadata": {
        "id": "jbrZhxL6plJZ"
      },
      "source": [
        "**Task 2**\n",
        "\n",
        "Now by using get_weights, I will get the weights and biases of all the layers and save them in a list."
      ]
    },
    {
      "cell_type": "code",
      "execution_count": null,
      "metadata": {
        "colab": {
          "base_uri": "https://localhost:8080/"
        },
        "id": "pVH7JWEkhZXj",
        "outputId": "36785965-ae9c-42b7-f48c-4eacfad5b37d"
      },
      "outputs": [
        {
          "name": "stdout",
          "output_type": "stream",
          "text": [
            "(64, 64)\n",
            "(64, 32)\n",
            "(32, 10)\n",
            "(64,)\n",
            "(32,)\n",
            "(10,)\n"
          ]
        }
      ],
      "source": [
        "W = [] #Weights\n",
        "b = [] #Bias\n",
        "for index in range(len(model.layers)):\n",
        "    W.append(model.layers[index].get_weights()[0])\n",
        "    b.append(model.layers[index].get_weights()[1])\n",
        "for i in range(len(W)):\n",
        "  print(W[i].shape)\n",
        "for j in range(len(b)):\n",
        "  print(b[j].shape)"
      ]
    },
    {
      "cell_type": "markdown",
      "metadata": {
        "id": "LGrFgrtpLmL2"
      },
      "source": [
        "* Here, I have declared a function called Forward Propagation. In that function, using NumPy and python, I have implemented Forward Propagation. In that, X_test is taken as input.\n",
        "\n",
        "* Along with that, I have also declared two non linear activation functions known as ReLU and softmax.\n",
        "\n",
        "* The other two functions which I have declared are predict and accuracy score. Predict function is used to take X_test as input, after which it does forward propagation and then using argmax, gives the value of the label. Argmax basically gives the maximum of the values of target function.\n",
        "\n",
        "* The accuracy score function is used to give the accuracy of the overall model."
      ]
    },
    {
      "cell_type": "code",
      "execution_count": null,
      "metadata": {
        "id": "VyP1B2TgiLrk"
      },
      "outputs": [],
      "source": [
        "def ReLU(Z):\n",
        "    return np.maximum(Z,0)\n",
        "\n",
        "def softmax(Z):\n",
        "    exp_z = np.exp(Z)\n",
        "    return exp_z/exp_z.sum()\n",
        "\n",
        "def forward_propagation(x_input):\n",
        "  Z1 = np.dot(x_input, W[0])+b[0]\n",
        "  A1 = ReLU(Z1)\n",
        "  Z2 = np.dot(A1, W[1])+b[1]\n",
        "  A2 = ReLU(Z2)\n",
        "  Z3 = np.dot(A2, W[2])+b[2]\n",
        "  A3 = softmax(Z3) #output\n",
        "  return A3\n",
        "\n",
        "def predict(x_input):\n",
        "    y_pred = forward_propagation(x_input)\n",
        "    # print(y_pred)\n",
        "    label = np.argmax(y_pred)\n",
        "    # print(label)\n",
        "    return label\n",
        "\n",
        "def accuracy_score(X_test, y_test):\n",
        "    result = 0\n",
        "    for i in range(len(X_test)-1):\n",
        "         if predict(X_test[i]) == y_test[i]:\n",
        "           result += 1\n",
        "    scratch_accuracy = result/len(X_test) * 100\n",
        "    return scratch_accuracy"
      ]
    },
    {
      "cell_type": "markdown",
      "metadata": {
        "id": "JwLleXrRAIBc"
      },
      "source": [
        "This gives the accuracy of the model."
      ]
    },
    {
      "cell_type": "code",
      "execution_count": null,
      "metadata": {
        "colab": {
          "base_uri": "https://localhost:8080/"
        },
        "id": "2dOrTqU7A38C",
        "outputId": "a43f2cc8-a8af-43c3-f03b-57dcd5b7bca2"
      },
      "outputs": [
        {
          "name": "stdout",
          "output_type": "stream",
          "text": [
            "97.77777777777777\n"
          ]
        }
      ],
      "source": [
        "forward_prop_np = accuracy_score(X_test, y_test)\n",
        "print(forward_prop_np)"
      ]
    },
    {
      "cell_type": "markdown",
      "metadata": {
        "id": "IVimR1Ww-7Gl"
      },
      "source": [
        "**Task 3**\n"
      ]
    },
    {
      "cell_type": "markdown",
      "metadata": {
        "id": "SmMG9iKhAZih"
      },
      "source": [
        "This part compares the accuracy values between one reported by the model and the one reported by the code."
      ]
    },
    {
      "cell_type": "code",
      "execution_count": null,
      "metadata": {
        "colab": {
          "base_uri": "https://localhost:8080/"
        },
        "id": "GC-nw9sMH8BX",
        "outputId": "890d02df-2f42-451e-aa92-68eb7faa61be"
      },
      "outputs": [
        {
          "name": "stdout",
          "output_type": "stream",
          "text": [
            "Accuracy: 97.9629635810852\n",
            "Forward Propagation using numpy: 97.77777777777777\n"
          ]
        }
      ],
      "source": [
        "#Task 3\n",
        "#Accuracy using Keras\n",
        "print('Accuracy:',test_acc*100)\n",
        "\n",
        "#Accuracy from forward propagation using numpy\n",
        "print('Forward Propagation using numpy:',forward_prop_np)"
      ]
    },
    {
      "cell_type": "markdown",
      "metadata": {
        "id": "T_rT6miqAv_c"
      },
      "source": [
        "The image_plot function plots the images."
      ]
    },
    {
      "cell_type": "code",
      "execution_count": null,
      "metadata": {
        "id": "jEoZjKLIPrng"
      },
      "outputs": [],
      "source": [
        "def image_plot(i , X_in, y_in):\n",
        "  lab = y_in[i]\n",
        "  image = digits.images[i]\n",
        "  print(\"Predict:\", predict(X_in[i]))\n",
        "  print(\"Label:\", lab)\n",
        "  plt.gray()\n",
        "  plt.matshow(image)\n",
        "  plt.show()"
      ]
    },
    {
      "cell_type": "markdown",
      "metadata": {
        "id": "IEVE7f4UHNAH"
      },
      "source": [
        "This visualizes all the digits. Label shows the input, while Predict shows the digit that was predicted."
      ]
    },
    {
      "cell_type": "code",
      "execution_count": null,
      "metadata": {
        "colab": {
          "base_uri": "https://localhost:8080/",
          "height": 1000
        },
        "id": "bJRRQxHXpP65",
        "outputId": "748d067f-01cb-4699-fddf-8478f257e1a1"
      },
      "outputs": [
        {
          "name": "stdout",
          "output_type": "stream",
          "text": [
            "Predict: 0\n",
            "Label: 0\n"
          ]
        },
        {
          "data": {
            "text/plain": [
              "<Figure size 432x288 with 0 Axes>"
            ]
          },
          "metadata": {},
          "output_type": "display_data"
        },
        {
          "data": {
            "image/png": "[encoded data removed]",
            "text/plain": [
              "<Figure size 288x288 with 1 Axes>"
            ]
          },
          "metadata": {
            "needs_background": "light"
          },
          "output_type": "display_data"
        },
        {
          "name": "stdout",
          "output_type": "stream",
          "text": [
            "Predict: 1\n",
            "Label: 1\n"
          ]
        },
        {
          "data": {
            "text/plain": [
              "<Figure size 432x288 with 0 Axes>"
            ]
          },
          "metadata": {},
          "output_type": "display_data"
        },
        {
          "data": {
            "image/png": "[encoded data removed]",
            "text/plain": [
              "<Figure size 288x288 with 1 Axes>"
            ]
          },
          "metadata": {
            "needs_background": "light"
          },
          "output_type": "display_data"
        },
        {
          "name": "stdout",
          "output_type": "stream",
          "text": [
            "Predict: 2\n",
            "Label: 2\n"
          ]
        },
        {
          "data": {
            "text/plain": [
              "<Figure size 432x288 with 0 Axes>"
            ]
          },
          "metadata": {},
          "output_type": "display_data"
        },
        {
          "data": {
            "image/png": "[encoded data removed]",
            "text/plain": [
              "<Figure size 288x288 with 1 Axes>"
            ]
          },
          "metadata": {
            "needs_background": "light"
          },
          "output_type": "display_data"
        },
        {
          "name": "stdout",
          "output_type": "stream",
          "text": [
            "Predict: 3\n",
            "Label: 3\n"
          ]
        },
        {
          "data": {
            "text/plain": [
              "<Figure size 432x288 with 0 Axes>"
            ]
          },
          "metadata": {},
          "output_type": "display_data"
        },
        {
          "data": {
            "image/png": "[encoded data removed]",
            "text/plain": [
              "<Figure size 288x288 with 1 Axes>"
            ]
          },
          "metadata": {
            "needs_background": "light"
          },
          "output_type": "display_data"
        },
        {
          "name": "stdout",
          "output_type": "stream",
          "text": [
            "Predict: 4\n",
            "Label: 4\n"
          ]
        },
        {
          "data": {
            "text/plain": [
              "<Figure size 432x288 with 0 Axes>"
            ]
          },
          "metadata": {},
          "output_type": "display_data"
        },
        {
          "data": {
            "image/png": "[encoded data removed]",
            "text/plain": [
              "<Figure size 288x288 with 1 Axes>"
            ]
          },
          "metadata": {
            "needs_background": "light"
          },
          "output_type": "display_data"
        },
        {
          "name": "stdout",
          "output_type": "stream",
          "text": [
            "Predict: 5\n",
            "Label: 5\n"
          ]
        },
        {
          "data": {
            "text/plain": [
              "<Figure size 432x288 with 0 Axes>"
            ]
          },
          "metadata": {},
          "output_type": "display_data"
        },
        {
          "data": {
            "image/png": "[encoded data removed]",
            "text/plain": [
              "<Figure size 288x288 with 1 Axes>"
            ]
          },
          "metadata": {
            "needs_background": "light"
          },
          "output_type": "display_data"
        },
        {
          "name": "stdout",
          "output_type": "stream",
          "text": [
            "Predict: 6\n",
            "Label: 6\n"
          ]
        },
        {
          "data": {
            "text/plain": [
              "<Figure size 432x288 with 0 Axes>"
            ]
          },
          "metadata": {},
          "output_type": "display_data"
        },
        {
          "data": {
            "image/png": "[encoded data removed]",
            "text/plain": [
              "<Figure size 288x288 with 1 Axes>"
            ]
          },
          "metadata": {
            "needs_background": "light"
          },
          "output_type": "display_data"
        },
        {
          "name": "stdout",
          "output_type": "stream",
          "text": [
            "Predict: 7\n",
            "Label: 7\n"
          ]
        },
        {
          "data": {
            "text/plain": [
              "<Figure size 432x288 with 0 Axes>"
            ]
          },
          "metadata": {},
          "output_type": "display_data"
        },
        {
          "data": {
            "image/png": "[encoded data removed]",
            "text/plain": [
              "<Figure size 288x288 with 1 Axes>"
            ]
          },
          "metadata": {
            "needs_background": "light"
          },
          "output_type": "display_data"
        },
        {
          "name": "stdout",
          "output_type": "stream",
          "text": [
            "Predict: 8\n",
            "Label: 8\n"
          ]
        },
        {
          "data": {
            "text/plain": [
              "<Figure size 432x288 with 0 Axes>"
            ]
          },
          "metadata": {},
          "output_type": "display_data"
        },
        {
          "data": {
            "image/png": "[encoded data removed]",
            "text/plain": [
              "<Figure size 288x288 with 1 Axes>"
            ]
          },
          "metadata": {
            "needs_background": "light"
          },
          "output_type": "display_data"
        },
        {
          "name": "stdout",
          "output_type": "stream",
          "text": [
            "Predict: 9\n",
            "Label: 9\n"
          ]
        },
        {
          "data": {
            "text/plain": [
              "<Figure size 432x288 with 0 Axes>"
            ]
          },
          "metadata": {},
          "output_type": "display_data"
        },
        {
          "data": {
            "image/png": "[encoded data removed]",
            "text/plain": [
              "<Figure size 288x288 with 1 Axes>"
            ]
          },
          "metadata": {
            "needs_background": "light"
          },
          "output_type": "display_data"
        }
      ],
      "source": [
        "for i in range(10):\n",
        "  image_plot(i, X, y)"
      ]
    },
    {
      "cell_type": "markdown",
      "metadata": {
        "id": "P6kY1DU8UeME"
      },
      "source": [
        "**References**\n",
        "\n",
        "1. Drori, I. (2022). The Science of Deep Learning. Cambridge: Cambridge University Press. doi:10.1017/9781108891530  \n",
        " https://www.cambridge.org/highereducation/books/the-science-of-deep-learning/23B3CE5B09590BD9E30474C850FA5358#overview\n",
        "\n",
        "2.  https://www.kaggle.com/code/wwsalmon/simple-mnist-nn-from-scratch-numpy-no-tf-keras/notebook\n",
        "\n",
        "3.  https://scikit-learn.org/stable/modules/generated/sklearn.datasets.load_digits.html#sklearn.datasets.load_digits\n",
        "\n",
        "4. https://machinelearningmastery.com/softmax-activation-function-with-python\n"
      ]
    }
  ],
  "metadata": {
    "colab": {
      "provenance": []
    },
    "gpuClass": "standard",
    "kernelspec": {
      "display_name": "Python 3",
      "name": "python3"
    },
    "language_info": {
      "name": "python"
    }
  },
  "nbformat": 4,
  "nbformat_minor": 0
}
